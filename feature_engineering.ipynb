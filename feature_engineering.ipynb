{
  "cells": [
    {
      "cell_type": "code",
      "execution_count": null,
      "metadata": {
        "colab": {
          "base_uri": "https://localhost:8080/",
          "height": 206
        },
        "id": "XEYif7PwRKWw",
        "outputId": "cddb7bc9-4153-45ed-f894-22ade08fb792"
      },
      "outputs": [
        {
          "data": {
            "text/html": [
              "\n",
              "  <div id=\"df-bb039456-44ba-415d-bdde-8e3b5ae1bd09\" class=\"colab-df-container\">\n",
              "    <div>\n",
              "<style scoped>\n",
              "    .dataframe tbody tr th:only-of-type {\n",
              "        vertical-align: middle;\n",
              "    }\n",
              "\n",
              "    .dataframe tbody tr th {\n",
              "        vertical-align: top;\n",
              "    }\n",
              "\n",
              "    .dataframe thead th {\n",
              "        text-align: right;\n",
              "    }\n",
              "</style>\n",
              "<table border=\"1\" class=\"dataframe\">\n",
              "  <thead>\n",
              "    <tr style=\"text-align: right;\">\n",
              "      <th></th>\n",
              "      <th>Liverfunction</th>\n",
              "      <th>age</th>\n",
              "      <th>height(cm)</th>\n",
              "      <th>Cholesterol</th>\n",
              "      <th>Gtp</th>\n",
              "      <th>Urine protein</th>\n",
              "      <th>AST</th>\n",
              "      <th>dental caries</th>\n",
              "      <th>ALT</th>\n",
              "      <th>systolic</th>\n",
              "      <th>eyesight(left)</th>\n",
              "      <th>smoking</th>\n",
              "    </tr>\n",
              "  </thead>\n",
              "  <tbody>\n",
              "    <tr>\n",
              "      <th>0</th>\n",
              "      <td>1.136364</td>\n",
              "      <td>55</td>\n",
              "      <td>165</td>\n",
              "      <td>172</td>\n",
              "      <td>27</td>\n",
              "      <td>1</td>\n",
              "      <td>22</td>\n",
              "      <td>0</td>\n",
              "      <td>25</td>\n",
              "      <td>135</td>\n",
              "      <td>0.5</td>\n",
              "      <td>1</td>\n",
              "    </tr>\n",
              "    <tr>\n",
              "      <th>1</th>\n",
              "      <td>0.851852</td>\n",
              "      <td>70</td>\n",
              "      <td>165</td>\n",
              "      <td>194</td>\n",
              "      <td>37</td>\n",
              "      <td>1</td>\n",
              "      <td>27</td>\n",
              "      <td>1</td>\n",
              "      <td>23</td>\n",
              "      <td>146</td>\n",
              "      <td>0.6</td>\n",
              "      <td>0</td>\n",
              "    </tr>\n",
              "    <tr>\n",
              "      <th>2</th>\n",
              "      <td>1.148148</td>\n",
              "      <td>20</td>\n",
              "      <td>170</td>\n",
              "      <td>178</td>\n",
              "      <td>53</td>\n",
              "      <td>1</td>\n",
              "      <td>27</td>\n",
              "      <td>0</td>\n",
              "      <td>31</td>\n",
              "      <td>118</td>\n",
              "      <td>0.4</td>\n",
              "      <td>1</td>\n",
              "    </tr>\n",
              "    <tr>\n",
              "      <th>3</th>\n",
              "      <td>1.350000</td>\n",
              "      <td>35</td>\n",
              "      <td>180</td>\n",
              "      <td>180</td>\n",
              "      <td>30</td>\n",
              "      <td>1</td>\n",
              "      <td>20</td>\n",
              "      <td>1</td>\n",
              "      <td>27</td>\n",
              "      <td>131</td>\n",
              "      <td>1.5</td>\n",
              "      <td>0</td>\n",
              "    </tr>\n",
              "    <tr>\n",
              "      <th>4</th>\n",
              "      <td>0.684211</td>\n",
              "      <td>30</td>\n",
              "      <td>165</td>\n",
              "      <td>155</td>\n",
              "      <td>17</td>\n",
              "      <td>1</td>\n",
              "      <td>19</td>\n",
              "      <td>0</td>\n",
              "      <td>13</td>\n",
              "      <td>121</td>\n",
              "      <td>1.5</td>\n",
              "      <td>1</td>\n",
              "    </tr>\n",
              "  </tbody>\n",
              "</table>\n",
              "</div>\n",
              "    <div class=\"colab-df-buttons\">\n",
              "\n",
              "  <div class=\"colab-df-container\">\n",
              "    <button class=\"colab-df-convert\" onclick=\"convertToInteractive('df-bb039456-44ba-415d-bdde-8e3b5ae1bd09')\"\n",
              "            title=\"Convert this dataframe to an interactive table.\"\n",
              "            style=\"display:none;\">\n",
              "\n",
              "  <svg xmlns=\"http://www.w3.org/2000/svg\" height=\"24px\" viewBox=\"0 -960 960 960\">\n",
              "    <path d=\"M120-120v-720h720v720H120Zm60-500h600v-160H180v160Zm220 220h160v-160H400v160Zm0 220h160v-160H400v160ZM180-400h160v-160H180v160Zm440 0h160v-160H620v160ZM180-180h160v-160H180v160Zm440 0h160v-160H620v160Z\"/>\n",
              "  </svg>\n",
              "    </button>\n",
              "\n",
              "  <style>\n",
              "    .colab-df-container {\n",
              "      display:flex;\n",
              "      gap: 12px;\n",
              "    }\n",
              "\n",
              "    .colab-df-convert {\n",
              "      background-color: #E8F0FE;\n",
              "      border: none;\n",
              "      border-radius: 50%;\n",
              "      cursor: pointer;\n",
              "      display: none;\n",
              "      fill: #1967D2;\n",
              "      height: 32px;\n",
              "      padding: 0 0 0 0;\n",
              "      width: 32px;\n",
              "    }\n",
              "\n",
              "    .colab-df-convert:hover {\n",
              "      background-color: #E2EBFA;\n",
              "      box-shadow: 0px 1px 2px rgba(60, 64, 67, 0.3), 0px 1px 3px 1px rgba(60, 64, 67, 0.15);\n",
              "      fill: #174EA6;\n",
              "    }\n",
              "\n",
              "    .colab-df-buttons div {\n",
              "      margin-bottom: 4px;\n",
              "    }\n",
              "\n",
              "    [theme=dark] .colab-df-convert {\n",
              "      background-color: #3B4455;\n",
              "      fill: #D2E3FC;\n",
              "    }\n",
              "\n",
              "    [theme=dark] .colab-df-convert:hover {\n",
              "      background-color: #434B5C;\n",
              "      box-shadow: 0px 1px 3px 1px rgba(0, 0, 0, 0.15);\n",
              "      filter: drop-shadow(0px 1px 2px rgba(0, 0, 0, 0.3));\n",
              "      fill: #FFFFFF;\n",
              "    }\n",
              "  </style>\n",
              "\n",
              "    <script>\n",
              "      const buttonEl =\n",
              "        document.querySelector('#df-bb039456-44ba-415d-bdde-8e3b5ae1bd09 button.colab-df-convert');\n",
              "      buttonEl.style.display =\n",
              "        google.colab.kernel.accessAllowed ? 'block' : 'none';\n",
              "\n",
              "      async function convertToInteractive(key) {\n",
              "        const element = document.querySelector('#df-bb039456-44ba-415d-bdde-8e3b5ae1bd09');\n",
              "        const dataTable =\n",
              "          await google.colab.kernel.invokeFunction('convertToInteractive',\n",
              "                                                    [key], {});\n",
              "        if (!dataTable) return;\n",
              "\n",
              "        const docLinkHtml = 'Like what you see? Visit the ' +\n",
              "          '<a target=\"_blank\" href=https://colab.research.google.com/notebooks/data_table.ipynb>data table notebook</a>'\n",
              "          + ' to learn more about interactive tables.';\n",
              "        element.innerHTML = '';\n",
              "        dataTable['output_type'] = 'display_data';\n",
              "        await google.colab.output.renderOutput(dataTable, element);\n",
              "        const docLink = document.createElement('div');\n",
              "        docLink.innerHTML = docLinkHtml;\n",
              "        element.appendChild(docLink);\n",
              "      }\n",
              "    </script>\n",
              "  </div>\n",
              "\n",
              "\n",
              "<div id=\"df-b004a89c-0975-41e5-87d9-6de39002754b\">\n",
              "  <button class=\"colab-df-quickchart\" onclick=\"quickchart('df-b004a89c-0975-41e5-87d9-6de39002754b')\"\n",
              "            title=\"Suggest charts\"\n",
              "            style=\"display:none;\">\n",
              "\n",
              "<svg xmlns=\"http://www.w3.org/2000/svg\" height=\"24px\"viewBox=\"0 0 24 24\"\n",
              "     width=\"24px\">\n",
              "    <g>\n",
              "        <path d=\"M19 3H5c-1.1 0-2 .9-2 2v14c0 1.1.9 2 2 2h14c1.1 0 2-.9 2-2V5c0-1.1-.9-2-2-2zM9 17H7v-7h2v7zm4 0h-2V7h2v10zm4 0h-2v-4h2v4z\"/>\n",
              "    </g>\n",
              "</svg>\n",
              "  </button>\n",
              "\n",
              "<style>\n",
              "  .colab-df-quickchart {\n",
              "      --bg-color: #E8F0FE;\n",
              "      --fill-color: #1967D2;\n",
              "      --hover-bg-color: #E2EBFA;\n",
              "      --hover-fill-color: #174EA6;\n",
              "      --disabled-fill-color: #AAA;\n",
              "      --disabled-bg-color: #DDD;\n",
              "  }\n",
              "\n",
              "  [theme=dark] .colab-df-quickchart {\n",
              "      --bg-color: #3B4455;\n",
              "      --fill-color: #D2E3FC;\n",
              "      --hover-bg-color: #434B5C;\n",
              "      --hover-fill-color: #FFFFFF;\n",
              "      --disabled-bg-color: #3B4455;\n",
              "      --disabled-fill-color: #666;\n",
              "  }\n",
              "\n",
              "  .colab-df-quickchart {\n",
              "    background-color: var(--bg-color);\n",
              "    border: none;\n",
              "    border-radius: 50%;\n",
              "    cursor: pointer;\n",
              "    display: none;\n",
              "    fill: var(--fill-color);\n",
              "    height: 32px;\n",
              "    padding: 0;\n",
              "    width: 32px;\n",
              "  }\n",
              "\n",
              "  .colab-df-quickchart:hover {\n",
              "    background-color: var(--hover-bg-color);\n",
              "    box-shadow: 0 1px 2px rgba(60, 64, 67, 0.3), 0 1px 3px 1px rgba(60, 64, 67, 0.15);\n",
              "    fill: var(--button-hover-fill-color);\n",
              "  }\n",
              "\n",
              "  .colab-df-quickchart-complete:disabled,\n",
              "  .colab-df-quickchart-complete:disabled:hover {\n",
              "    background-color: var(--disabled-bg-color);\n",
              "    fill: var(--disabled-fill-color);\n",
              "    box-shadow: none;\n",
              "  }\n",
              "\n",
              "  .colab-df-spinner {\n",
              "    border: 2px solid var(--fill-color);\n",
              "    border-color: transparent;\n",
              "    border-bottom-color: var(--fill-color);\n",
              "    animation:\n",
              "      spin 1s steps(1) infinite;\n",
              "  }\n",
              "\n",
              "  @keyframes spin {\n",
              "    0% {\n",
              "      border-color: transparent;\n",
              "      border-bottom-color: var(--fill-color);\n",
              "      border-left-color: var(--fill-color);\n",
              "    }\n",
              "    20% {\n",
              "      border-color: transparent;\n",
              "      border-left-color: var(--fill-color);\n",
              "      border-top-color: var(--fill-color);\n",
              "    }\n",
              "    30% {\n",
              "      border-color: transparent;\n",
              "      border-left-color: var(--fill-color);\n",
              "      border-top-color: var(--fill-color);\n",
              "      border-right-color: var(--fill-color);\n",
              "    }\n",
              "    40% {\n",
              "      border-color: transparent;\n",
              "      border-right-color: var(--fill-color);\n",
              "      border-top-color: var(--fill-color);\n",
              "    }\n",
              "    60% {\n",
              "      border-color: transparent;\n",
              "      border-right-color: var(--fill-color);\n",
              "    }\n",
              "    80% {\n",
              "      border-color: transparent;\n",
              "      border-right-color: var(--fill-color);\n",
              "      border-bottom-color: var(--fill-color);\n",
              "    }\n",
              "    90% {\n",
              "      border-color: transparent;\n",
              "      border-bottom-color: var(--fill-color);\n",
              "    }\n",
              "  }\n",
              "</style>\n",
              "\n",
              "  <script>\n",
              "    async function quickchart(key) {\n",
              "      const quickchartButtonEl =\n",
              "        document.querySelector('#' + key + ' button');\n",
              "      quickchartButtonEl.disabled = true;  // To prevent multiple clicks.\n",
              "      quickchartButtonEl.classList.add('colab-df-spinner');\n",
              "      try {\n",
              "        const charts = await google.colab.kernel.invokeFunction(\n",
              "            'suggestCharts', [key], {});\n",
              "      } catch (error) {\n",
              "        console.error('Error during call to suggestCharts:', error);\n",
              "      }\n",
              "      quickchartButtonEl.classList.remove('colab-df-spinner');\n",
              "      quickchartButtonEl.classList.add('colab-df-quickchart-complete');\n",
              "    }\n",
              "    (() => {\n",
              "      let quickchartButtonEl =\n",
              "        document.querySelector('#df-b004a89c-0975-41e5-87d9-6de39002754b button');\n",
              "      quickchartButtonEl.style.display =\n",
              "        google.colab.kernel.accessAllowed ? 'block' : 'none';\n",
              "    })();\n",
              "  </script>\n",
              "</div>\n",
              "\n",
              "    </div>\n",
              "  </div>\n"
            ],
            "text/plain": [
              "   Liverfunction  age  height(cm)  Cholesterol  Gtp  Urine protein  AST  \\\n",
              "0       1.136364   55         165          172   27              1   22   \n",
              "1       0.851852   70         165          194   37              1   27   \n",
              "2       1.148148   20         170          178   53              1   27   \n",
              "3       1.350000   35         180          180   30              1   20   \n",
              "4       0.684211   30         165          155   17              1   19   \n",
              "\n",
              "   dental caries  ALT  systolic  eyesight(left)  smoking  \n",
              "0              0   25       135             0.5        1  \n",
              "1              1   23       146             0.6        0  \n",
              "2              0   31       118             0.4        1  \n",
              "3              1   27       131             1.5        0  \n",
              "4              0   13       121             1.5        1  "
            ]
          },
          "execution_count": 253,
          "metadata": {},
          "output_type": "execute_result"
        }
      ],
      "source": [
        "import numpy as np\n",
        "import pandas as pd\n",
        "import matplotlib.pyplot as plt\n",
        "import seaborn as sns\n",
        "\n",
        "assigned_features = ['Liverfunction', 'age', 'height(cm)', 'Cholesterol', 'Gtp', 'Urine protein', 'AST', 'dental caries', 'ALT', 'systolic', 'eyesight(left)', 'smoking']\n",
        "data = pd.read_csv(\"./Used_data.csv\")\n",
        "data = data[assigned_features]\n",
        "data.head()"
      ]
    },
    {
      "cell_type": "code",
      "execution_count": null,
      "metadata": {
        "id": "rONh4jk5-97x"
      },
      "outputs": [],
      "source": [
        "y = data[\"smoking\"]"
      ]
    },
    {
      "cell_type": "markdown",
      "metadata": {
        "id": "I6vUaYEvUS16"
      },
      "source": [
        "# Feature Engineering"
      ]
    },
    {
      "cell_type": "markdown",
      "metadata": {
        "id": "bZyxgQM-e4mL"
      },
      "source": [
        "## Handling missing data"
      ]
    },
    {
      "cell_type": "code",
      "execution_count": null,
      "metadata": {
        "colab": {
          "base_uri": "https://localhost:8080/"
        },
        "id": "H3kOkSKhNwtD",
        "outputId": "53a0075b-fb78-4e59-c900-b0835bd6f0b0"
      },
      "outputs": [
        {
          "data": {
            "text/plain": [
              "(159256, 12)"
            ]
          },
          "execution_count": 255,
          "metadata": {},
          "output_type": "execute_result"
        }
      ],
      "source": [
        "data.shape"
      ]
    },
    {
      "cell_type": "code",
      "execution_count": null,
      "metadata": {
        "colab": {
          "base_uri": "https://localhost:8080/"
        },
        "id": "dmjXemipf-8n",
        "outputId": "65ffc353-228e-41a8-a135-566011ad7522"
      },
      "outputs": [
        {
          "data": {
            "text/plain": [
              "Liverfunction     0\n",
              "age               0\n",
              "height(cm)        0\n",
              "Cholesterol       0\n",
              "Gtp               0\n",
              "Urine protein     0\n",
              "AST               0\n",
              "dental caries     0\n",
              "ALT               0\n",
              "systolic          0\n",
              "eyesight(left)    0\n",
              "smoking           0\n",
              "dtype: int64"
            ]
          },
          "execution_count": 256,
          "metadata": {},
          "output_type": "execute_result"
        }
      ],
      "source": [
        "# checking number of null values in each column\n",
        "data.isnull().sum()"
      ]
    },
    {
      "cell_type": "markdown",
      "metadata": {
        "id": "QHEhZrLPgsy5"
      },
      "source": [
        "The given dataset happens to have no null values, but we will attatch code section to handle null vales, so that this code could be used with other datasets."
      ]
    },
    {
      "cell_type": "code",
      "execution_count": null,
      "metadata": {
        "id": "bzHS7G9egdNn"
      },
      "outputs": [],
      "source": [
        "# Filling empty values with column mean\n",
        "features = data.columns.values[0: -1]\n",
        "row_indices = data.index.tolist()\n",
        "\n",
        "for feature in features:\n",
        "  mean = data[feature].mean()\n",
        "  for i in row_indices:\n",
        "    if data[feature][i] is None:\n",
        "      data[feature][i] = mean"
      ]
    },
    {
      "cell_type": "code",
      "execution_count": null,
      "metadata": {
        "colab": {
          "base_uri": "https://localhost:8080/"
        },
        "id": "WZiLSBO8Nh04",
        "outputId": "e6a9d2e7-e845-4776-93d8-ef42d0566f03"
      },
      "outputs": [
        {
          "data": {
            "text/plain": [
              "(159256, 12)"
            ]
          },
          "execution_count": 258,
          "metadata": {},
          "output_type": "execute_result"
        }
      ],
      "source": [
        "data.shape"
      ]
    },
    {
      "cell_type": "markdown",
      "metadata": {
        "id": "YqPis81hUTuk"
      },
      "source": [
        "## Removing outliers using percentile method"
      ]
    },
    {
      "cell_type": "code",
      "execution_count": null,
      "metadata": {
        "colab": {
          "base_uri": "https://localhost:8080/",
          "height": 337
        },
        "id": "MNjZq4_lRmEg",
        "outputId": "3a921f76-7982-4dbc-8785-f531f80834ad"
      },
      "outputs": [
        {
          "data": {
            "text/html": [
              "\n",
              "  <div id=\"df-ea273a62-3a8f-4ee2-b8f5-ec822c1c620c\" class=\"colab-df-container\">\n",
              "    <div>\n",
              "<style scoped>\n",
              "    .dataframe tbody tr th:only-of-type {\n",
              "        vertical-align: middle;\n",
              "    }\n",
              "\n",
              "    .dataframe tbody tr th {\n",
              "        vertical-align: top;\n",
              "    }\n",
              "\n",
              "    .dataframe thead th {\n",
              "        text-align: right;\n",
              "    }\n",
              "</style>\n",
              "<table border=\"1\" class=\"dataframe\">\n",
              "  <thead>\n",
              "    <tr style=\"text-align: right;\">\n",
              "      <th></th>\n",
              "      <th>Liverfunction</th>\n",
              "      <th>age</th>\n",
              "      <th>height(cm)</th>\n",
              "      <th>Cholesterol</th>\n",
              "      <th>Gtp</th>\n",
              "      <th>Urine protein</th>\n",
              "      <th>AST</th>\n",
              "      <th>dental caries</th>\n",
              "      <th>ALT</th>\n",
              "      <th>systolic</th>\n",
              "      <th>eyesight(left)</th>\n",
              "      <th>smoking</th>\n",
              "    </tr>\n",
              "  </thead>\n",
              "  <tbody>\n",
              "    <tr>\n",
              "      <th>count</th>\n",
              "      <td>159256.000000</td>\n",
              "      <td>159256.000000</td>\n",
              "      <td>159256.000000</td>\n",
              "      <td>159256.000000</td>\n",
              "      <td>159256.000000</td>\n",
              "      <td>159256.000000</td>\n",
              "      <td>159256.000000</td>\n",
              "      <td>159256.000000</td>\n",
              "      <td>159256.000000</td>\n",
              "      <td>159256.000000</td>\n",
              "      <td>159256.000000</td>\n",
              "      <td>159256.000000</td>\n",
              "    </tr>\n",
              "    <tr>\n",
              "      <th>mean</th>\n",
              "      <td>1.019722</td>\n",
              "      <td>44.306626</td>\n",
              "      <td>165.266929</td>\n",
              "      <td>195.796165</td>\n",
              "      <td>36.216004</td>\n",
              "      <td>1.074233</td>\n",
              "      <td>25.516853</td>\n",
              "      <td>0.197996</td>\n",
              "      <td>26.550296</td>\n",
              "      <td>122.503648</td>\n",
              "      <td>1.005798</td>\n",
              "      <td>0.437365</td>\n",
              "    </tr>\n",
              "    <tr>\n",
              "      <th>std</th>\n",
              "      <td>0.446632</td>\n",
              "      <td>11.842286</td>\n",
              "      <td>8.818970</td>\n",
              "      <td>28.396959</td>\n",
              "      <td>31.204643</td>\n",
              "      <td>0.347856</td>\n",
              "      <td>9.464882</td>\n",
              "      <td>0.398490</td>\n",
              "      <td>17.753070</td>\n",
              "      <td>12.729315</td>\n",
              "      <td>0.402113</td>\n",
              "      <td>0.496063</td>\n",
              "    </tr>\n",
              "    <tr>\n",
              "      <th>min</th>\n",
              "      <td>0.023256</td>\n",
              "      <td>20.000000</td>\n",
              "      <td>135.000000</td>\n",
              "      <td>77.000000</td>\n",
              "      <td>2.000000</td>\n",
              "      <td>1.000000</td>\n",
              "      <td>6.000000</td>\n",
              "      <td>0.000000</td>\n",
              "      <td>1.000000</td>\n",
              "      <td>77.000000</td>\n",
              "      <td>0.100000</td>\n",
              "      <td>0.000000</td>\n",
              "    </tr>\n",
              "    <tr>\n",
              "      <th>25%</th>\n",
              "      <td>0.750000</td>\n",
              "      <td>40.000000</td>\n",
              "      <td>160.000000</td>\n",
              "      <td>175.000000</td>\n",
              "      <td>18.000000</td>\n",
              "      <td>1.000000</td>\n",
              "      <td>20.000000</td>\n",
              "      <td>0.000000</td>\n",
              "      <td>16.000000</td>\n",
              "      <td>114.000000</td>\n",
              "      <td>0.800000</td>\n",
              "      <td>0.000000</td>\n",
              "    </tr>\n",
              "    <tr>\n",
              "      <th>50%</th>\n",
              "      <td>0.941176</td>\n",
              "      <td>40.000000</td>\n",
              "      <td>165.000000</td>\n",
              "      <td>196.000000</td>\n",
              "      <td>27.000000</td>\n",
              "      <td>1.000000</td>\n",
              "      <td>24.000000</td>\n",
              "      <td>0.000000</td>\n",
              "      <td>22.000000</td>\n",
              "      <td>121.000000</td>\n",
              "      <td>1.000000</td>\n",
              "      <td>0.000000</td>\n",
              "    </tr>\n",
              "    <tr>\n",
              "      <th>75%</th>\n",
              "      <td>1.222222</td>\n",
              "      <td>55.000000</td>\n",
              "      <td>170.000000</td>\n",
              "      <td>217.000000</td>\n",
              "      <td>44.000000</td>\n",
              "      <td>1.000000</td>\n",
              "      <td>29.000000</td>\n",
              "      <td>0.000000</td>\n",
              "      <td>32.000000</td>\n",
              "      <td>130.000000</td>\n",
              "      <td>1.200000</td>\n",
              "      <td>1.000000</td>\n",
              "    </tr>\n",
              "    <tr>\n",
              "      <th>max</th>\n",
              "      <td>94.000000</td>\n",
              "      <td>85.000000</td>\n",
              "      <td>190.000000</td>\n",
              "      <td>393.000000</td>\n",
              "      <td>999.000000</td>\n",
              "      <td>6.000000</td>\n",
              "      <td>778.000000</td>\n",
              "      <td>1.000000</td>\n",
              "      <td>2914.000000</td>\n",
              "      <td>213.000000</td>\n",
              "      <td>9.900000</td>\n",
              "      <td>1.000000</td>\n",
              "    </tr>\n",
              "  </tbody>\n",
              "</table>\n",
              "</div>\n",
              "    <div class=\"colab-df-buttons\">\n",
              "\n",
              "  <div class=\"colab-df-container\">\n",
              "    <button class=\"colab-df-convert\" onclick=\"convertToInteractive('df-ea273a62-3a8f-4ee2-b8f5-ec822c1c620c')\"\n",
              "            title=\"Convert this dataframe to an interactive table.\"\n",
              "            style=\"display:none;\">\n",
              "\n",
              "  <svg xmlns=\"http://www.w3.org/2000/svg\" height=\"24px\" viewBox=\"0 -960 960 960\">\n",
              "    <path d=\"M120-120v-720h720v720H120Zm60-500h600v-160H180v160Zm220 220h160v-160H400v160Zm0 220h160v-160H400v160ZM180-400h160v-160H180v160Zm440 0h160v-160H620v160ZM180-180h160v-160H180v160Zm440 0h160v-160H620v160Z\"/>\n",
              "  </svg>\n",
              "    </button>\n",
              "\n",
              "  <style>\n",
              "    .colab-df-container {\n",
              "      display:flex;\n",
              "      gap: 12px;\n",
              "    }\n",
              "\n",
              "    .colab-df-convert {\n",
              "      background-color: #E8F0FE;\n",
              "      border: none;\n",
              "      border-radius: 50%;\n",
              "      cursor: pointer;\n",
              "      display: none;\n",
              "      fill: #1967D2;\n",
              "      height: 32px;\n",
              "      padding: 0 0 0 0;\n",
              "      width: 32px;\n",
              "    }\n",
              "\n",
              "    .colab-df-convert:hover {\n",
              "      background-color: #E2EBFA;\n",
              "      box-shadow: 0px 1px 2px rgba(60, 64, 67, 0.3), 0px 1px 3px 1px rgba(60, 64, 67, 0.15);\n",
              "      fill: #174EA6;\n",
              "    }\n",
              "\n",
              "    .colab-df-buttons div {\n",
              "      margin-bottom: 4px;\n",
              "    }\n",
              "\n",
              "    [theme=dark] .colab-df-convert {\n",
              "      background-color: #3B4455;\n",
              "      fill: #D2E3FC;\n",
              "    }\n",
              "\n",
              "    [theme=dark] .colab-df-convert:hover {\n",
              "      background-color: #434B5C;\n",
              "      box-shadow: 0px 1px 3px 1px rgba(0, 0, 0, 0.15);\n",
              "      filter: drop-shadow(0px 1px 2px rgba(0, 0, 0, 0.3));\n",
              "      fill: #FFFFFF;\n",
              "    }\n",
              "  </style>\n",
              "\n",
              "    <script>\n",
              "      const buttonEl =\n",
              "        document.querySelector('#df-ea273a62-3a8f-4ee2-b8f5-ec822c1c620c button.colab-df-convert');\n",
              "      buttonEl.style.display =\n",
              "        google.colab.kernel.accessAllowed ? 'block' : 'none';\n",
              "\n",
              "      async function convertToInteractive(key) {\n",
              "        const element = document.querySelector('#df-ea273a62-3a8f-4ee2-b8f5-ec822c1c620c');\n",
              "        const dataTable =\n",
              "          await google.colab.kernel.invokeFunction('convertToInteractive',\n",
              "                                                    [key], {});\n",
              "        if (!dataTable) return;\n",
              "\n",
              "        const docLinkHtml = 'Like what you see? Visit the ' +\n",
              "          '<a target=\"_blank\" href=https://colab.research.google.com/notebooks/data_table.ipynb>data table notebook</a>'\n",
              "          + ' to learn more about interactive tables.';\n",
              "        element.innerHTML = '';\n",
              "        dataTable['output_type'] = 'display_data';\n",
              "        await google.colab.output.renderOutput(dataTable, element);\n",
              "        const docLink = document.createElement('div');\n",
              "        docLink.innerHTML = docLinkHtml;\n",
              "        element.appendChild(docLink);\n",
              "      }\n",
              "    </script>\n",
              "  </div>\n",
              "\n",
              "\n",
              "<div id=\"df-01cf2400-3c55-470d-9bb2-9d57c2b4ce19\">\n",
              "  <button class=\"colab-df-quickchart\" onclick=\"quickchart('df-01cf2400-3c55-470d-9bb2-9d57c2b4ce19')\"\n",
              "            title=\"Suggest charts\"\n",
              "            style=\"display:none;\">\n",
              "\n",
              "<svg xmlns=\"http://www.w3.org/2000/svg\" height=\"24px\"viewBox=\"0 0 24 24\"\n",
              "     width=\"24px\">\n",
              "    <g>\n",
              "        <path d=\"M19 3H5c-1.1 0-2 .9-2 2v14c0 1.1.9 2 2 2h14c1.1 0 2-.9 2-2V5c0-1.1-.9-2-2-2zM9 17H7v-7h2v7zm4 0h-2V7h2v10zm4 0h-2v-4h2v4z\"/>\n",
              "    </g>\n",
              "</svg>\n",
              "  </button>\n",
              "\n",
              "<style>\n",
              "  .colab-df-quickchart {\n",
              "      --bg-color: #E8F0FE;\n",
              "      --fill-color: #1967D2;\n",
              "      --hover-bg-color: #E2EBFA;\n",
              "      --hover-fill-color: #174EA6;\n",
              "      --disabled-fill-color: #AAA;\n",
              "      --disabled-bg-color: #DDD;\n",
              "  }\n",
              "\n",
              "  [theme=dark] .colab-df-quickchart {\n",
              "      --bg-color: #3B4455;\n",
              "      --fill-color: #D2E3FC;\n",
              "      --hover-bg-color: #434B5C;\n",
              "      --hover-fill-color: #FFFFFF;\n",
              "      --disabled-bg-color: #3B4455;\n",
              "      --disabled-fill-color: #666;\n",
              "  }\n",
              "\n",
              "  .colab-df-quickchart {\n",
              "    background-color: var(--bg-color);\n",
              "    border: none;\n",
              "    border-radius: 50%;\n",
              "    cursor: pointer;\n",
              "    display: none;\n",
              "    fill: var(--fill-color);\n",
              "    height: 32px;\n",
              "    padding: 0;\n",
              "    width: 32px;\n",
              "  }\n",
              "\n",
              "  .colab-df-quickchart:hover {\n",
              "    background-color: var(--hover-bg-color);\n",
              "    box-shadow: 0 1px 2px rgba(60, 64, 67, 0.3), 0 1px 3px 1px rgba(60, 64, 67, 0.15);\n",
              "    fill: var(--button-hover-fill-color);\n",
              "  }\n",
              "\n",
              "  .colab-df-quickchart-complete:disabled,\n",
              "  .colab-df-quickchart-complete:disabled:hover {\n",
              "    background-color: var(--disabled-bg-color);\n",
              "    fill: var(--disabled-fill-color);\n",
              "    box-shadow: none;\n",
              "  }\n",
              "\n",
              "  .colab-df-spinner {\n",
              "    border: 2px solid var(--fill-color);\n",
              "    border-color: transparent;\n",
              "    border-bottom-color: var(--fill-color);\n",
              "    animation:\n",
              "      spin 1s steps(1) infinite;\n",
              "  }\n",
              "\n",
              "  @keyframes spin {\n",
              "    0% {\n",
              "      border-color: transparent;\n",
              "      border-bottom-color: var(--fill-color);\n",
              "      border-left-color: var(--fill-color);\n",
              "    }\n",
              "    20% {\n",
              "      border-color: transparent;\n",
              "      border-left-color: var(--fill-color);\n",
              "      border-top-color: var(--fill-color);\n",
              "    }\n",
              "    30% {\n",
              "      border-color: transparent;\n",
              "      border-left-color: var(--fill-color);\n",
              "      border-top-color: var(--fill-color);\n",
              "      border-right-color: var(--fill-color);\n",
              "    }\n",
              "    40% {\n",
              "      border-color: transparent;\n",
              "      border-right-color: var(--fill-color);\n",
              "      border-top-color: var(--fill-color);\n",
              "    }\n",
              "    60% {\n",
              "      border-color: transparent;\n",
              "      border-right-color: var(--fill-color);\n",
              "    }\n",
              "    80% {\n",
              "      border-color: transparent;\n",
              "      border-right-color: var(--fill-color);\n",
              "      border-bottom-color: var(--fill-color);\n",
              "    }\n",
              "    90% {\n",
              "      border-color: transparent;\n",
              "      border-bottom-color: var(--fill-color);\n",
              "    }\n",
              "  }\n",
              "</style>\n",
              "\n",
              "  <script>\n",
              "    async function quickchart(key) {\n",
              "      const quickchartButtonEl =\n",
              "        document.querySelector('#' + key + ' button');\n",
              "      quickchartButtonEl.disabled = true;  // To prevent multiple clicks.\n",
              "      quickchartButtonEl.classList.add('colab-df-spinner');\n",
              "      try {\n",
              "        const charts = await google.colab.kernel.invokeFunction(\n",
              "            'suggestCharts', [key], {});\n",
              "      } catch (error) {\n",
              "        console.error('Error during call to suggestCharts:', error);\n",
              "      }\n",
              "      quickchartButtonEl.classList.remove('colab-df-spinner');\n",
              "      quickchartButtonEl.classList.add('colab-df-quickchart-complete');\n",
              "    }\n",
              "    (() => {\n",
              "      let quickchartButtonEl =\n",
              "        document.querySelector('#df-01cf2400-3c55-470d-9bb2-9d57c2b4ce19 button');\n",
              "      quickchartButtonEl.style.display =\n",
              "        google.colab.kernel.accessAllowed ? 'block' : 'none';\n",
              "    })();\n",
              "  </script>\n",
              "</div>\n",
              "\n",
              "    </div>\n",
              "  </div>\n"
            ],
            "text/plain": [
              "       Liverfunction            age     height(cm)    Cholesterol  \\\n",
              "count  159256.000000  159256.000000  159256.000000  159256.000000   \n",
              "mean        1.019722      44.306626     165.266929     195.796165   \n",
              "std         0.446632      11.842286       8.818970      28.396959   \n",
              "min         0.023256      20.000000     135.000000      77.000000   \n",
              "25%         0.750000      40.000000     160.000000     175.000000   \n",
              "50%         0.941176      40.000000     165.000000     196.000000   \n",
              "75%         1.222222      55.000000     170.000000     217.000000   \n",
              "max        94.000000      85.000000     190.000000     393.000000   \n",
              "\n",
              "                 Gtp  Urine protein            AST  dental caries  \\\n",
              "count  159256.000000  159256.000000  159256.000000  159256.000000   \n",
              "mean       36.216004       1.074233      25.516853       0.197996   \n",
              "std        31.204643       0.347856       9.464882       0.398490   \n",
              "min         2.000000       1.000000       6.000000       0.000000   \n",
              "25%        18.000000       1.000000      20.000000       0.000000   \n",
              "50%        27.000000       1.000000      24.000000       0.000000   \n",
              "75%        44.000000       1.000000      29.000000       0.000000   \n",
              "max       999.000000       6.000000     778.000000       1.000000   \n",
              "\n",
              "                 ALT       systolic  eyesight(left)        smoking  \n",
              "count  159256.000000  159256.000000   159256.000000  159256.000000  \n",
              "mean       26.550296     122.503648        1.005798       0.437365  \n",
              "std        17.753070      12.729315        0.402113       0.496063  \n",
              "min         1.000000      77.000000        0.100000       0.000000  \n",
              "25%        16.000000     114.000000        0.800000       0.000000  \n",
              "50%        22.000000     121.000000        1.000000       0.000000  \n",
              "75%        32.000000     130.000000        1.200000       1.000000  \n",
              "max      2914.000000     213.000000        9.900000       1.000000  "
            ]
          },
          "execution_count": 259,
          "metadata": {},
          "output_type": "execute_result"
        }
      ],
      "source": [
        "# Examining data to see which features might have outliers\n",
        "pd.set_option('display.max_columns', None)\n",
        "data.describe()"
      ]
    },
    {
      "cell_type": "code",
      "execution_count": null,
      "metadata": {
        "colab": {
          "base_uri": "https://localhost:8080/"
        },
        "id": "zsMBXs4BRyIP",
        "outputId": "3de8e8d9-28f9-4d05-db0e-4b1c7a2f0a93"
      },
      "outputs": [
        {
          "data": {
            "text/plain": [
              "(159256, 12)"
            ]
          },
          "execution_count": 260,
          "metadata": {},
          "output_type": "execute_result"
        }
      ],
      "source": [
        "# Get dataset shape before outliers removal to compare it with shape after removal\n",
        "data.shape"
      ]
    },
    {
      "cell_type": "code",
      "execution_count": null,
      "metadata": {
        "colab": {
          "base_uri": "https://localhost:8080/"
        },
        "id": "q0ZBMDN6R1mA",
        "outputId": "b3675fca-a766-4cb6-94e7-7c38a5e402c7"
      },
      "outputs": [
        {
          "name": "stdout",
          "output_type": "stream",
          "text": [
            "Cholesterol -> (158916, 12)\n",
            "Gtp -> (158558, 12)\n",
            "AST -> (158173, 12)\n",
            "ALT -> (157795, 12)\n",
            "systolic -> (156842, 12)\n",
            "eyesight(left) -> (155464, 12)\n"
          ]
        }
      ],
      "source": [
        "cols = data.columns\n",
        "for i in range(1, len(cols)-1):\n",
        "  if cols[i] not in ['age', 'height(cm)', 'weight(kg)', 'waist(cm)', 'hearing(left)', 'hearing(right)', 'Urine protein', 'dental caries']:\n",
        "    min_threshold, max_threshold = data[cols[i]].quantile([0.001, 0.999])\n",
        "    data = data[(data[cols[i]]<max_threshold) & (data[cols[i]]>min_threshold)]\n",
        "    print(f\"{cols[i]} -> {data.shape}\")"
      ]
    },
    {
      "cell_type": "code",
      "execution_count": null,
      "metadata": {
        "colab": {
          "base_uri": "https://localhost:8080/"
        },
        "id": "XNhvoDF7R44n",
        "outputId": "037db5a1-04d8-4e00-8a58-0a0c2e0d1270"
      },
      "outputs": [
        {
          "data": {
            "text/plain": [
              "(155464, 12)"
            ]
          },
          "execution_count": 262,
          "metadata": {},
          "output_type": "execute_result"
        }
      ],
      "source": [
        "# dataset shape after outlier removal\n",
        "data.shape"
      ]
    },
    {
      "cell_type": "markdown",
      "metadata": {
        "id": "V3Wr_tl1Xiwb"
      },
      "source": [
        "## Applying different normalization methods"
      ]
    },
    {
      "cell_type": "code",
      "execution_count": null,
      "metadata": {
        "id": "20XuKBsG7tzT"
      },
      "outputs": [],
      "source": [
        "# saving type of normalization required by each feature as deduced from analysis section\n",
        "\n",
        "feature_normalization_types = {\n",
        "    'Liverfunction': 'min_max',\n",
        "    'age': 'min_max',\n",
        "    'height(cm)': 'z_score',\n",
        "    'Cholesterol': 'z_score',\n",
        "    'Gtp': 'min_max',\n",
        "    'Urine protein': 'z_score',\n",
        "    'AST': 'min_max',\n",
        "    'dental caries': None,\n",
        "    'ALT': 'min_max',\n",
        "    'systolic': 'z_score',\n",
        "    'eyesight(left)': 'min_max',\n",
        "    'smoking': None\n",
        "}"
      ]
    },
    {
      "cell_type": "markdown",
      "metadata": {
        "id": "-v2ItIeGJeKX"
      },
      "source": [
        "### Z-Score Normalization (Standardization)"
      ]
    },
    {
      "cell_type": "markdown",
      "metadata": {
        "id": "nndFNvFJJrXI"
      },
      "source": [
        "It transforms the data to have a mean of 0 and a standard deviation of 1. This method is useful when the data has varying scales."
      ]
    },
    {
      "cell_type": "code",
      "execution_count": null,
      "metadata": {
        "colab": {
          "base_uri": "https://localhost:8080/"
        },
        "id": "6NlaS40SJyH-",
        "outputId": "d2275003-6d7a-4f2a-8507-faafdbc4fe9e"
      },
      "outputs": [
        {
          "name": "stderr",
          "output_type": "stream",
          "text": [
            "<ipython-input-264-06473b6c0f5f>:8: SettingWithCopyWarning: \n",
            "A value is trying to be set on a copy of a slice from a DataFrame.\n",
            "Try using .loc[row_indexer,col_indexer] = value instead\n",
            "\n",
            "See the caveats in the documentation: https://pandas.pydata.org/pandas-docs/stable/user_guide/indexing.html#returning-a-view-versus-a-copy\n",
            "  data[feature] = column_values_scaled\n",
            "<ipython-input-264-06473b6c0f5f>:8: SettingWithCopyWarning: \n",
            "A value is trying to be set on a copy of a slice from a DataFrame.\n",
            "Try using .loc[row_indexer,col_indexer] = value instead\n",
            "\n",
            "See the caveats in the documentation: https://pandas.pydata.org/pandas-docs/stable/user_guide/indexing.html#returning-a-view-versus-a-copy\n",
            "  data[feature] = column_values_scaled\n",
            "<ipython-input-264-06473b6c0f5f>:8: SettingWithCopyWarning: \n",
            "A value is trying to be set on a copy of a slice from a DataFrame.\n",
            "Try using .loc[row_indexer,col_indexer] = value instead\n",
            "\n",
            "See the caveats in the documentation: https://pandas.pydata.org/pandas-docs/stable/user_guide/indexing.html#returning-a-view-versus-a-copy\n",
            "  data[feature] = column_values_scaled\n",
            "<ipython-input-264-06473b6c0f5f>:8: SettingWithCopyWarning: \n",
            "A value is trying to be set on a copy of a slice from a DataFrame.\n",
            "Try using .loc[row_indexer,col_indexer] = value instead\n",
            "\n",
            "See the caveats in the documentation: https://pandas.pydata.org/pandas-docs/stable/user_guide/indexing.html#returning-a-view-versus-a-copy\n",
            "  data[feature] = column_values_scaled\n"
          ]
        }
      ],
      "source": [
        "from sklearn.preprocessing import StandardScaler\n",
        "scaler = StandardScaler()\n",
        "\n",
        "for feature in assigned_features:\n",
        "  if feature_normalization_types[feature] == 'z_score':\n",
        "    column_values = data[feature].values.astype(float)\n",
        "    column_values_scaled = scaler.fit_transform(column_values.reshape(-1, 1))\n",
        "    data[feature] = column_values_scaled"
      ]
    },
    {
      "cell_type": "markdown",
      "metadata": {
        "id": "1QVSNevGXooc"
      },
      "source": [
        "### Min-Max Scaling (MinMaxScaler)"
      ]
    },
    {
      "cell_type": "markdown",
      "metadata": {
        "id": "mS1SfSGdX0N5"
      },
      "source": [
        "This method scales the data to a fixed range, usually between 0 and 1."
      ]
    },
    {
      "cell_type": "code",
      "execution_count": null,
      "metadata": {
        "colab": {
          "base_uri": "https://localhost:8080/"
        },
        "id": "0vrU_4XBXoG7",
        "outputId": "59252d18-84c7-49aa-f421-4fd569dfc744"
      },
      "outputs": [
        {
          "name": "stderr",
          "output_type": "stream",
          "text": [
            "<ipython-input-265-101ac750b660>:8: SettingWithCopyWarning: \n",
            "A value is trying to be set on a copy of a slice from a DataFrame.\n",
            "Try using .loc[row_indexer,col_indexer] = value instead\n",
            "\n",
            "See the caveats in the documentation: https://pandas.pydata.org/pandas-docs/stable/user_guide/indexing.html#returning-a-view-versus-a-copy\n",
            "  data[feature] = column_values_scaled\n",
            "<ipython-input-265-101ac750b660>:8: SettingWithCopyWarning: \n",
            "A value is trying to be set on a copy of a slice from a DataFrame.\n",
            "Try using .loc[row_indexer,col_indexer] = value instead\n",
            "\n",
            "See the caveats in the documentation: https://pandas.pydata.org/pandas-docs/stable/user_guide/indexing.html#returning-a-view-versus-a-copy\n",
            "  data[feature] = column_values_scaled\n",
            "<ipython-input-265-101ac750b660>:8: SettingWithCopyWarning: \n",
            "A value is trying to be set on a copy of a slice from a DataFrame.\n",
            "Try using .loc[row_indexer,col_indexer] = value instead\n",
            "\n",
            "See the caveats in the documentation: https://pandas.pydata.org/pandas-docs/stable/user_guide/indexing.html#returning-a-view-versus-a-copy\n",
            "  data[feature] = column_values_scaled\n",
            "<ipython-input-265-101ac750b660>:8: SettingWithCopyWarning: \n",
            "A value is trying to be set on a copy of a slice from a DataFrame.\n",
            "Try using .loc[row_indexer,col_indexer] = value instead\n",
            "\n",
            "See the caveats in the documentation: https://pandas.pydata.org/pandas-docs/stable/user_guide/indexing.html#returning-a-view-versus-a-copy\n",
            "  data[feature] = column_values_scaled\n",
            "<ipython-input-265-101ac750b660>:8: SettingWithCopyWarning: \n",
            "A value is trying to be set on a copy of a slice from a DataFrame.\n",
            "Try using .loc[row_indexer,col_indexer] = value instead\n",
            "\n",
            "See the caveats in the documentation: https://pandas.pydata.org/pandas-docs/stable/user_guide/indexing.html#returning-a-view-versus-a-copy\n",
            "  data[feature] = column_values_scaled\n",
            "<ipython-input-265-101ac750b660>:8: SettingWithCopyWarning: \n",
            "A value is trying to be set on a copy of a slice from a DataFrame.\n",
            "Try using .loc[row_indexer,col_indexer] = value instead\n",
            "\n",
            "See the caveats in the documentation: https://pandas.pydata.org/pandas-docs/stable/user_guide/indexing.html#returning-a-view-versus-a-copy\n",
            "  data[feature] = column_values_scaled\n"
          ]
        }
      ],
      "source": [
        "from sklearn.preprocessing import MinMaxScaler\n",
        "scaler = MinMaxScaler()\n",
        "\n",
        "for feature in assigned_features:\n",
        "  if feature_normalization_types[feature] == 'min_max':\n",
        "    column_values = data[feature].values.astype(float)\n",
        "    column_values_scaled = scaler.fit_transform(column_values.reshape(-1, 1))\n",
        "    data[feature] = column_values_scaled"
      ]
    },
    {
      "cell_type": "code",
      "execution_count": null,
      "metadata": {
        "colab": {
          "base_uri": "https://localhost:8080/",
          "height": 407
        },
        "id": "KKXYNacUYtUO",
        "outputId": "543fc188-1a08-4cb7-f68d-a583a5e522b5"
      },
      "outputs": [
        {
          "data": {
            "text/html": [
              "\n",
              "  <div id=\"df-6ec21206-6cd0-48dd-b9b9-f79192afe1c9\" class=\"colab-df-container\">\n",
              "    <div>\n",
              "<style scoped>\n",
              "    .dataframe tbody tr th:only-of-type {\n",
              "        vertical-align: middle;\n",
              "    }\n",
              "\n",
              "    .dataframe tbody tr th {\n",
              "        vertical-align: top;\n",
              "    }\n",
              "\n",
              "    .dataframe thead th {\n",
              "        text-align: right;\n",
              "    }\n",
              "</style>\n",
              "<table border=\"1\" class=\"dataframe\">\n",
              "  <thead>\n",
              "    <tr style=\"text-align: right;\">\n",
              "      <th></th>\n",
              "      <th>Liverfunction</th>\n",
              "      <th>age</th>\n",
              "      <th>height(cm)</th>\n",
              "      <th>Cholesterol</th>\n",
              "      <th>Gtp</th>\n",
              "      <th>Urine protein</th>\n",
              "      <th>AST</th>\n",
              "      <th>dental caries</th>\n",
              "      <th>ALT</th>\n",
              "      <th>systolic</th>\n",
              "      <th>eyesight(left)</th>\n",
              "      <th>smoking</th>\n",
              "    </tr>\n",
              "  </thead>\n",
              "  <tbody>\n",
              "    <tr>\n",
              "      <th>count</th>\n",
              "      <td>155464.000000</td>\n",
              "      <td>155464.000000</td>\n",
              "      <td>1.554640e+05</td>\n",
              "      <td>1.554640e+05</td>\n",
              "      <td>155464.000000</td>\n",
              "      <td>1.554640e+05</td>\n",
              "      <td>155464.000000</td>\n",
              "      <td>155464.000000</td>\n",
              "      <td>155464.000000</td>\n",
              "      <td>1.554640e+05</td>\n",
              "      <td>155464.000000</td>\n",
              "      <td>155464.000000</td>\n",
              "    </tr>\n",
              "    <tr>\n",
              "      <th>mean</th>\n",
              "      <td>0.092358</td>\n",
              "      <td>0.373675</td>\n",
              "      <td>-1.199747e-15</td>\n",
              "      <td>5.996450e-17</td>\n",
              "      <td>0.092130</td>\n",
              "      <td>4.611599e-17</td>\n",
              "      <td>0.188643</td>\n",
              "      <td>0.197518</td>\n",
              "      <td>0.165728</td>\n",
              "      <td>1.475118e-16</td>\n",
              "      <td>0.470281</td>\n",
              "      <td>0.439304</td>\n",
              "    </tr>\n",
              "    <tr>\n",
              "      <th>std</th>\n",
              "      <td>0.039183</td>\n",
              "      <td>0.181893</td>\n",
              "      <td>1.000003e+00</td>\n",
              "      <td>1.000003e+00</td>\n",
              "      <td>0.091617</td>\n",
              "      <td>1.000003e+00</td>\n",
              "      <td>0.113604</td>\n",
              "      <td>0.398128</td>\n",
              "      <td>0.123500</td>\n",
              "      <td>1.000003e+00</td>\n",
              "      <td>0.176240</td>\n",
              "      <td>0.496304</td>\n",
              "    </tr>\n",
              "    <tr>\n",
              "      <th>min</th>\n",
              "      <td>0.000000</td>\n",
              "      <td>0.000000</td>\n",
              "      <td>-3.442021e+00</td>\n",
              "      <td>-2.814135e+00</td>\n",
              "      <td>0.000000</td>\n",
              "      <td>-2.128080e-01</td>\n",
              "      <td>0.000000</td>\n",
              "      <td>0.000000</td>\n",
              "      <td>0.000000</td>\n",
              "      <td>-2.547048e+00</td>\n",
              "      <td>0.000000</td>\n",
              "      <td>0.000000</td>\n",
              "    </tr>\n",
              "    <tr>\n",
              "      <th>25%</th>\n",
              "      <td>0.063788</td>\n",
              "      <td>0.307692</td>\n",
              "      <td>-6.041281e-01</td>\n",
              "      <td>-7.438430e-01</td>\n",
              "      <td>0.033113</td>\n",
              "      <td>-2.128080e-01</td>\n",
              "      <td>0.112676</td>\n",
              "      <td>0.000000</td>\n",
              "      <td>0.076923</td>\n",
              "      <td>-6.933809e-01</td>\n",
              "      <td>0.352941</td>\n",
              "      <td>0.000000</td>\n",
              "    </tr>\n",
              "    <tr>\n",
              "      <th>50%</th>\n",
              "      <td>0.084050</td>\n",
              "      <td>0.307692</td>\n",
              "      <td>-3.654957e-02</td>\n",
              "      <td>4.144023e-02</td>\n",
              "      <td>0.062914</td>\n",
              "      <td>-2.128080e-01</td>\n",
              "      <td>0.169014</td>\n",
              "      <td>0.000000</td>\n",
              "      <td>0.128205</td>\n",
              "      <td>-1.292212e-01</td>\n",
              "      <td>0.470588</td>\n",
              "      <td>0.000000</td>\n",
              "    </tr>\n",
              "    <tr>\n",
              "      <th>75%</th>\n",
              "      <td>0.114077</td>\n",
              "      <td>0.538462</td>\n",
              "      <td>5.310290e-01</td>\n",
              "      <td>7.553341e-01</td>\n",
              "      <td>0.119205</td>\n",
              "      <td>-2.128080e-01</td>\n",
              "      <td>0.239437</td>\n",
              "      <td>0.000000</td>\n",
              "      <td>0.213675</td>\n",
              "      <td>5.961270e-01</td>\n",
              "      <td>0.588235</td>\n",
              "      <td>1.000000</td>\n",
              "    </tr>\n",
              "    <tr>\n",
              "      <th>max</th>\n",
              "      <td>1.000000</td>\n",
              "      <td>1.000000</td>\n",
              "      <td>2.801343e+00</td>\n",
              "      <td>3.396742e+00</td>\n",
              "      <td>1.000000</td>\n",
              "      <td>1.424192e+01</td>\n",
              "      <td>1.000000</td>\n",
              "      <td>1.000000</td>\n",
              "      <td>1.000000</td>\n",
              "      <td>3.739302e+00</td>\n",
              "      <td>1.000000</td>\n",
              "      <td>1.000000</td>\n",
              "    </tr>\n",
              "  </tbody>\n",
              "</table>\n",
              "</div>\n",
              "    <div class=\"colab-df-buttons\">\n",
              "\n",
              "  <div class=\"colab-df-container\">\n",
              "    <button class=\"colab-df-convert\" onclick=\"convertToInteractive('df-6ec21206-6cd0-48dd-b9b9-f79192afe1c9')\"\n",
              "            title=\"Convert this dataframe to an interactive table.\"\n",
              "            style=\"display:none;\">\n",
              "\n",
              "  <svg xmlns=\"http://www.w3.org/2000/svg\" height=\"24px\" viewBox=\"0 -960 960 960\">\n",
              "    <path d=\"M120-120v-720h720v720H120Zm60-500h600v-160H180v160Zm220 220h160v-160H400v160Zm0 220h160v-160H400v160ZM180-400h160v-160H180v160Zm440 0h160v-160H620v160ZM180-180h160v-160H180v160Zm440 0h160v-160H620v160Z\"/>\n",
              "  </svg>\n",
              "    </button>\n",
              "\n",
              "  <style>\n",
              "    .colab-df-container {\n",
              "      display:flex;\n",
              "      gap: 12px;\n",
              "    }\n",
              "\n",
              "    .colab-df-convert {\n",
              "      background-color: #E8F0FE;\n",
              "      border: none;\n",
              "      border-radius: 50%;\n",
              "      cursor: pointer;\n",
              "      display: none;\n",
              "      fill: #1967D2;\n",
              "      height: 32px;\n",
              "      padding: 0 0 0 0;\n",
              "      width: 32px;\n",
              "    }\n",
              "\n",
              "    .colab-df-convert:hover {\n",
              "      background-color: #E2EBFA;\n",
              "      box-shadow: 0px 1px 2px rgba(60, 64, 67, 0.3), 0px 1px 3px 1px rgba(60, 64, 67, 0.15);\n",
              "      fill: #174EA6;\n",
              "    }\n",
              "\n",
              "    .colab-df-buttons div {\n",
              "      margin-bottom: 4px;\n",
              "    }\n",
              "\n",
              "    [theme=dark] .colab-df-convert {\n",
              "      background-color: #3B4455;\n",
              "      fill: #D2E3FC;\n",
              "    }\n",
              "\n",
              "    [theme=dark] .colab-df-convert:hover {\n",
              "      background-color: #434B5C;\n",
              "      box-shadow: 0px 1px 3px 1px rgba(0, 0, 0, 0.15);\n",
              "      filter: drop-shadow(0px 1px 2px rgba(0, 0, 0, 0.3));\n",
              "      fill: #FFFFFF;\n",
              "    }\n",
              "  </style>\n",
              "\n",
              "    <script>\n",
              "      const buttonEl =\n",
              "        document.querySelector('#df-6ec21206-6cd0-48dd-b9b9-f79192afe1c9 button.colab-df-convert');\n",
              "      buttonEl.style.display =\n",
              "        google.colab.kernel.accessAllowed ? 'block' : 'none';\n",
              "\n",
              "      async function convertToInteractive(key) {\n",
              "        const element = document.querySelector('#df-6ec21206-6cd0-48dd-b9b9-f79192afe1c9');\n",
              "        const dataTable =\n",
              "          await google.colab.kernel.invokeFunction('convertToInteractive',\n",
              "                                                    [key], {});\n",
              "        if (!dataTable) return;\n",
              "\n",
              "        const docLinkHtml = 'Like what you see? Visit the ' +\n",
              "          '<a target=\"_blank\" href=https://colab.research.google.com/notebooks/data_table.ipynb>data table notebook</a>'\n",
              "          + ' to learn more about interactive tables.';\n",
              "        element.innerHTML = '';\n",
              "        dataTable['output_type'] = 'display_data';\n",
              "        await google.colab.output.renderOutput(dataTable, element);\n",
              "        const docLink = document.createElement('div');\n",
              "        docLink.innerHTML = docLinkHtml;\n",
              "        element.appendChild(docLink);\n",
              "      }\n",
              "    </script>\n",
              "  </div>\n",
              "\n",
              "\n",
              "<div id=\"df-023b902e-bab0-4fc5-9b82-a7e8188ca0d6\">\n",
              "  <button class=\"colab-df-quickchart\" onclick=\"quickchart('df-023b902e-bab0-4fc5-9b82-a7e8188ca0d6')\"\n",
              "            title=\"Suggest charts\"\n",
              "            style=\"display:none;\">\n",
              "\n",
              "<svg xmlns=\"http://www.w3.org/2000/svg\" height=\"24px\"viewBox=\"0 0 24 24\"\n",
              "     width=\"24px\">\n",
              "    <g>\n",
              "        <path d=\"M19 3H5c-1.1 0-2 .9-2 2v14c0 1.1.9 2 2 2h14c1.1 0 2-.9 2-2V5c0-1.1-.9-2-2-2zM9 17H7v-7h2v7zm4 0h-2V7h2v10zm4 0h-2v-4h2v4z\"/>\n",
              "    </g>\n",
              "</svg>\n",
              "  </button>\n",
              "\n",
              "<style>\n",
              "  .colab-df-quickchart {\n",
              "      --bg-color: #E8F0FE;\n",
              "      --fill-color: #1967D2;\n",
              "      --hover-bg-color: #E2EBFA;\n",
              "      --hover-fill-color: #174EA6;\n",
              "      --disabled-fill-color: #AAA;\n",
              "      --disabled-bg-color: #DDD;\n",
              "  }\n",
              "\n",
              "  [theme=dark] .colab-df-quickchart {\n",
              "      --bg-color: #3B4455;\n",
              "      --fill-color: #D2E3FC;\n",
              "      --hover-bg-color: #434B5C;\n",
              "      --hover-fill-color: #FFFFFF;\n",
              "      --disabled-bg-color: #3B4455;\n",
              "      --disabled-fill-color: #666;\n",
              "  }\n",
              "\n",
              "  .colab-df-quickchart {\n",
              "    background-color: var(--bg-color);\n",
              "    border: none;\n",
              "    border-radius: 50%;\n",
              "    cursor: pointer;\n",
              "    display: none;\n",
              "    fill: var(--fill-color);\n",
              "    height: 32px;\n",
              "    padding: 0;\n",
              "    width: 32px;\n",
              "  }\n",
              "\n",
              "  .colab-df-quickchart:hover {\n",
              "    background-color: var(--hover-bg-color);\n",
              "    box-shadow: 0 1px 2px rgba(60, 64, 67, 0.3), 0 1px 3px 1px rgba(60, 64, 67, 0.15);\n",
              "    fill: var(--button-hover-fill-color);\n",
              "  }\n",
              "\n",
              "  .colab-df-quickchart-complete:disabled,\n",
              "  .colab-df-quickchart-complete:disabled:hover {\n",
              "    background-color: var(--disabled-bg-color);\n",
              "    fill: var(--disabled-fill-color);\n",
              "    box-shadow: none;\n",
              "  }\n",
              "\n",
              "  .colab-df-spinner {\n",
              "    border: 2px solid var(--fill-color);\n",
              "    border-color: transparent;\n",
              "    border-bottom-color: var(--fill-color);\n",
              "    animation:\n",
              "      spin 1s steps(1) infinite;\n",
              "  }\n",
              "\n",
              "  @keyframes spin {\n",
              "    0% {\n",
              "      border-color: transparent;\n",
              "      border-bottom-color: var(--fill-color);\n",
              "      border-left-color: var(--fill-color);\n",
              "    }\n",
              "    20% {\n",
              "      border-color: transparent;\n",
              "      border-left-color: var(--fill-color);\n",
              "      border-top-color: var(--fill-color);\n",
              "    }\n",
              "    30% {\n",
              "      border-color: transparent;\n",
              "      border-left-color: var(--fill-color);\n",
              "      border-top-color: var(--fill-color);\n",
              "      border-right-color: var(--fill-color);\n",
              "    }\n",
              "    40% {\n",
              "      border-color: transparent;\n",
              "      border-right-color: var(--fill-color);\n",
              "      border-top-color: var(--fill-color);\n",
              "    }\n",
              "    60% {\n",
              "      border-color: transparent;\n",
              "      border-right-color: var(--fill-color);\n",
              "    }\n",
              "    80% {\n",
              "      border-color: transparent;\n",
              "      border-right-color: var(--fill-color);\n",
              "      border-bottom-color: var(--fill-color);\n",
              "    }\n",
              "    90% {\n",
              "      border-color: transparent;\n",
              "      border-bottom-color: var(--fill-color);\n",
              "    }\n",
              "  }\n",
              "</style>\n",
              "\n",
              "  <script>\n",
              "    async function quickchart(key) {\n",
              "      const quickchartButtonEl =\n",
              "        document.querySelector('#' + key + ' button');\n",
              "      quickchartButtonEl.disabled = true;  // To prevent multiple clicks.\n",
              "      quickchartButtonEl.classList.add('colab-df-spinner');\n",
              "      try {\n",
              "        const charts = await google.colab.kernel.invokeFunction(\n",
              "            'suggestCharts', [key], {});\n",
              "      } catch (error) {\n",
              "        console.error('Error during call to suggestCharts:', error);\n",
              "      }\n",
              "      quickchartButtonEl.classList.remove('colab-df-spinner');\n",
              "      quickchartButtonEl.classList.add('colab-df-quickchart-complete');\n",
              "    }\n",
              "    (() => {\n",
              "      let quickchartButtonEl =\n",
              "        document.querySelector('#df-023b902e-bab0-4fc5-9b82-a7e8188ca0d6 button');\n",
              "      quickchartButtonEl.style.display =\n",
              "        google.colab.kernel.accessAllowed ? 'block' : 'none';\n",
              "    })();\n",
              "  </script>\n",
              "</div>\n",
              "\n",
              "    </div>\n",
              "  </div>\n"
            ],
            "text/plain": [
              "       Liverfunction            age    height(cm)   Cholesterol  \\\n",
              "count  155464.000000  155464.000000  1.554640e+05  1.554640e+05   \n",
              "mean        0.092358       0.373675 -1.199747e-15  5.996450e-17   \n",
              "std         0.039183       0.181893  1.000003e+00  1.000003e+00   \n",
              "min         0.000000       0.000000 -3.442021e+00 -2.814135e+00   \n",
              "25%         0.063788       0.307692 -6.041281e-01 -7.438430e-01   \n",
              "50%         0.084050       0.307692 -3.654957e-02  4.144023e-02   \n",
              "75%         0.114077       0.538462  5.310290e-01  7.553341e-01   \n",
              "max         1.000000       1.000000  2.801343e+00  3.396742e+00   \n",
              "\n",
              "                 Gtp  Urine protein            AST  dental caries  \\\n",
              "count  155464.000000   1.554640e+05  155464.000000  155464.000000   \n",
              "mean        0.092130   4.611599e-17       0.188643       0.197518   \n",
              "std         0.091617   1.000003e+00       0.113604       0.398128   \n",
              "min         0.000000  -2.128080e-01       0.000000       0.000000   \n",
              "25%         0.033113  -2.128080e-01       0.112676       0.000000   \n",
              "50%         0.062914  -2.128080e-01       0.169014       0.000000   \n",
              "75%         0.119205  -2.128080e-01       0.239437       0.000000   \n",
              "max         1.000000   1.424192e+01       1.000000       1.000000   \n",
              "\n",
              "                 ALT      systolic  eyesight(left)        smoking  \n",
              "count  155464.000000  1.554640e+05   155464.000000  155464.000000  \n",
              "mean        0.165728  1.475118e-16        0.470281       0.439304  \n",
              "std         0.123500  1.000003e+00        0.176240       0.496304  \n",
              "min         0.000000 -2.547048e+00        0.000000       0.000000  \n",
              "25%         0.076923 -6.933809e-01        0.352941       0.000000  \n",
              "50%         0.128205 -1.292212e-01        0.470588       0.000000  \n",
              "75%         0.213675  5.961270e-01        0.588235       1.000000  \n",
              "max         1.000000  3.739302e+00        1.000000       1.000000  "
            ]
          },
          "execution_count": 266,
          "metadata": {},
          "output_type": "execute_result"
        }
      ],
      "source": [
        "data.describe()"
      ]
    },
    {
      "cell_type": "markdown",
      "metadata": {
        "id": "jD7s3UgRolpc"
      },
      "source": [
        "## Feature selection"
      ]
    },
    {
      "cell_type": "markdown",
      "metadata": {
        "id": "YtgG5zmjoqNb"
      },
      "source": [
        "### Information gain"
      ]
    },
    {
      "cell_type": "markdown",
      "metadata": {
        "id": "yrXF2EH7rwgS"
      },
      "source": [
        "Information gain calculates the reduction in entropy from the transformation of a dataset. It can be used for feature selection by evaluating the Information gain of each variable in the context of the target variable."
      ]
    },
    {
      "cell_type": "code",
      "execution_count": null,
      "metadata": {
        "colab": {
          "base_uri": "https://localhost:8080/",
          "height": 430
        },
        "id": "8XbWW70Sok1l",
        "outputId": "3c069a75-4dad-4b3e-c12b-18f3769319ab"
      },
      "outputs": [
        {
          "data": {
            "image/png": "[encoded data removed]",
            "text/plain": [
              "<Figure size 640x480 with 1 Axes>"
            ]
          },
          "metadata": {},
          "output_type": "display_data"
        }
      ],
      "source": [
        "from sklearn.feature_selection import mutual_info_classif\n",
        "\n",
        "X = data.iloc[:, :-1].values\n",
        "y = data.iloc[:, -1].values\n",
        "\n",
        "importances = mutual_info_classif(X, y)\n",
        "feat_importances = pd.Series(importances, data.columns[0:len(data.columns)-1])\n",
        "feat_importances.plot(kind='barh', color='teal')\n",
        "plt.show()"
      ]
    },
    {
      "cell_type": "code",
      "execution_count": null,
      "metadata": {
        "id": "WfSwUItO2AQn"
      },
      "outputs": [],
      "source": [
        "# Picking 8 features with heighest importance value\n",
        "\n",
        "features = data.columns.values\n",
        "information_gain_selected_features = []\n",
        "\n",
        "for i in range(0, 8):\n",
        "  max_importance = max(importances)\n",
        "  max_importance_index = np.where(importances==max_importance)[0][0]\n",
        "\n",
        "  if features[max_importance_index] != 'id':\n",
        "    information_gain_selected_features.append(features[max_importance_index])\n",
        "  importances[max_importance_index] = 0"
      ]
    },
    {
      "cell_type": "code",
      "execution_count": null,
      "metadata": {
        "colab": {
          "base_uri": "https://localhost:8080/"
        },
        "id": "EwSAWGmU1ILR",
        "outputId": "33aeda4d-e0d5-437c-fe1a-7b325f4f1d8e"
      },
      "outputs": [
        {
          "name": "stdout",
          "output_type": "stream",
          "text": [
            "['height(cm)', 'Gtp', 'Liverfunction', 'ALT', 'age', 'eyesight(left)', 'dental caries', 'systolic']\n"
          ]
        }
      ],
      "source": [
        "print(information_gain_selected_features)"
      ]
    },
    {
      "cell_type": "markdown",
      "metadata": {
        "id": "qX4Lr3qu9WpQ"
      },
      "source": [
        "### Correlation Coefficient"
      ]
    },
    {
      "cell_type": "markdown",
      "metadata": {
        "id": "iyjNpRmh9SAw"
      },
      "source": [
        "Correlation is a measure of the linear relationship between 2 or more variables. Through correlation, we can predict one variable from the other. The logic behind using correlation for feature selection is that good variables correlate highly with the target. Furthermore, variables should be correlated with the target but uncorrelated among themselves.\n",
        "\n",
        "If two variables are correlated, we can predict one from the other. Therefore, if two features are correlated, the model only needs one, as the second does not add additional information. We will use the Pearson Correlation here."
      ]
    },
    {
      "cell_type": "code",
      "execution_count": null,
      "metadata": {
        "colab": {
          "base_uri": "https://localhost:8080/",
          "height": 726
        },
        "id": "gdebCfJF9bSu",
        "outputId": "35e59e9f-2b21-42c5-a74c-f9c6b9a4107a"
      },
      "outputs": [
        {
          "data": {
            "text/plain": [
              "<Axes: >"
            ]
          },
          "execution_count": 270,
          "metadata": {},
          "output_type": "execute_result"
        },
        {
          "data": {
            "image/png": "[encoded data removed]",
            "text/plain": [
              "<Figure size 2000x1000 with 2 Axes>"
            ]
          },
          "metadata": {},
          "output_type": "display_data"
        }
      ],
      "source": [
        "import seaborn as sns\n",
        "# correlation matrix\n",
        "correlation = data.corr()\n",
        "\n",
        "# Plotting Heatmap\n",
        "plt.figure(figsize=(20,10))\n",
        "sns.heatmap(correlation, annot=True)"
      ]
    },
    {
      "cell_type": "code",
      "execution_count": null,
      "metadata": {
        "id": "RBwbHwKcCyeb"
      },
      "outputs": [],
      "source": [
        "removed_features = []\n",
        "features = data.columns.values\n",
        "threshold = 0.5\n",
        "\n",
        "for el_i in features:\n",
        "  for el_j in features:\n",
        "    if el_i != el_j and correlation[el_i][el_j] > threshold and el_i not in removed_features and el_j not in removed_features:\n",
        "      removed_features.append(el_j)"
      ]
    },
    {
      "cell_type": "code",
      "execution_count": null,
      "metadata": {
        "colab": {
          "base_uri": "https://localhost:8080/"
        },
        "id": "xwPfI7RsEs-s",
        "outputId": "160c47ce-833a-446d-a8b5-d77736ebc57a"
      },
      "outputs": [
        {
          "name": "stdout",
          "output_type": "stream",
          "text": [
            "['ALT']\n"
          ]
        }
      ],
      "source": [
        "print(removed_features)"
      ]
    },
    {
      "cell_type": "code",
      "execution_count": null,
      "metadata": {
        "id": "6abFfUEAFwJb"
      },
      "outputs": [],
      "source": [
        "correlation_coefficient_selected_features = []\n",
        "\n",
        "for feature in features:\n",
        "  if feature not in removed_features and feature != 'id':\n",
        "    correlation_coefficient_selected_features.append(feature)"
      ]
    },
    {
      "cell_type": "code",
      "execution_count": null,
      "metadata": {
        "colab": {
          "base_uri": "https://localhost:8080/"
        },
        "id": "Y6Ic4mS1HZSa",
        "outputId": "697b444a-c126-49c2-a081-50169e78b342"
      },
      "outputs": [
        {
          "name": "stdout",
          "output_type": "stream",
          "text": [
            "['Liverfunction', 'age', 'height(cm)', 'Cholesterol', 'Gtp', 'Urine protein', 'AST', 'dental caries', 'systolic', 'eyesight(left)', 'smoking']\n"
          ]
        }
      ],
      "source": [
        "print(correlation_coefficient_selected_features)"
      ]
    },
    {
      "cell_type": "markdown",
      "metadata": {
        "id": "6VQkPdO93sn4"
      },
      "source": [
        "### Random Forest Importance"
      ]
    },
    {
      "cell_type": "markdown",
      "metadata": {
        "id": "vuDSE8Tk3zoH"
      },
      "source": [
        "The tree-based strategies used by random forests naturally rank by how well they improve the purity of the node, or in other words, a decrease in the impurity (Gini impurity) over all trees. Nodes with the greatest decrease in impurity happen at the start of the trees, while nodes with the least decrease in impurity occur at the end of the trees. Thus, by pruning trees below a particular node, we can create a subset of the most important features."
      ]
    },
    {
      "cell_type": "code",
      "execution_count": null,
      "metadata": {
        "id": "N5dDYC6G3ypm"
      },
      "outputs": [],
      "source": [
        "from sklearn.ensemble import RandomForestClassifier\n",
        "model = RandomForestClassifier(n_estimators=300)\n",
        "model.fit(X, y)\n",
        "\n",
        "importances = model.feature_importances_"
      ]
    },
    {
      "cell_type": "code",
      "execution_count": null,
      "metadata": {
        "colab": {
          "base_uri": "https://localhost:8080/"
        },
        "id": "QNDY3ZcI53Pb",
        "outputId": "6d10ffd4-7178-43a8-e498-73a237c0bf2d"
      },
      "outputs": [
        {
          "name": "stdout",
          "output_type": "stream",
          "text": [
            "[0.11299077 0.0676789  0.19243094 0.11699355 0.18094076 0.00816049\n",
            " 0.07422366 0.00974277 0.08328151 0.09798089 0.05557575]\n"
          ]
        }
      ],
      "source": [
        "print(importances)"
      ]
    },
    {
      "cell_type": "code",
      "execution_count": null,
      "metadata": {
        "colab": {
          "base_uri": "https://localhost:8080/",
          "height": 430
        },
        "id": "8MU6Xs1J6M3B",
        "outputId": "037dfd97-cca7-4e74-8992-fa47a6182790"
      },
      "outputs": [
        {
          "data": {
            "image/png": "[encoded data removed]",
            "text/plain": [
              "<Figure size 640x480 with 1 Axes>"
            ]
          },
          "metadata": {},
          "output_type": "display_data"
        }
      ],
      "source": [
        "feat_importances = pd.Series(importances, data.columns[0:len(data.columns)-1])\n",
        "feat_importances.plot(kind='barh', color='teal')\n",
        "plt.show()"
      ]
    },
    {
      "cell_type": "code",
      "execution_count": null,
      "metadata": {
        "id": "XZGGjWMy8IVW"
      },
      "outputs": [],
      "source": [
        "# Picking 8 features with heighest importance value\n",
        "\n",
        "features = data.columns.values\n",
        "random_forest_importance_selected_features = []\n",
        "\n",
        "for i in range(0, 8):\n",
        "  max_importance = max(importances)\n",
        "  max_importance_index = np.where(importances==max_importance)[0][0]\n",
        "\n",
        "  if features[max_importance_index] != 'id':\n",
        "    random_forest_importance_selected_features.append(features[max_importance_index])\n",
        "  importances[max_importance_index] = 0"
      ]
    },
    {
      "cell_type": "code",
      "execution_count": null,
      "metadata": {
        "colab": {
          "base_uri": "https://localhost:8080/"
        },
        "id": "VlFX7zyl8HDc",
        "outputId": "ac5a2be1-bc67-4c5a-8106-9cf833a69d93"
      },
      "outputs": [
        {
          "name": "stdout",
          "output_type": "stream",
          "text": [
            "['height(cm)', 'Gtp', 'Cholesterol', 'Liverfunction', 'systolic', 'ALT', 'AST', 'age']\n"
          ]
        }
      ],
      "source": [
        "print(random_forest_importance_selected_features)"
      ]
    },
    {
      "cell_type": "markdown",
      "metadata": {
        "id": "X6DTzdsJ_20v"
      },
      "source": [
        "### Forward Selection"
      ]
    },
    {
      "cell_type": "markdown",
      "metadata": {
        "id": "hTHcssQPloln"
      },
      "source": [
        "A process where a subset of relevant features is selected from a larger set of available features to build a model. Forward selection is specifically used in the context of machine learning to choose the most relevant features that contribute significantly to the predictive power of the model."
      ]
    },
    {
      "cell_type": "code",
      "execution_count": null,
      "metadata": {
        "colab": {
          "base_uri": "https://localhost:8080/"
        },
        "id": "nbdy31X7BHJR",
        "outputId": "e7c1c524-75e2-49cd-b631-9724b980c744"
      },
      "outputs": [
        {
          "name": "stdout",
          "output_type": "stream",
          "text": [
            "Selected Features: ('2', '3', '4', '5', '6', '7', '9', '10')\n",
            "Accuracy: 0.7179475780234733\n"
          ]
        }
      ],
      "source": [
        "from sklearn.linear_model import LogisticRegression\n",
        "from mlxtend.feature_selection import SequentialFeatureSelector as SFS\n",
        "\n",
        "X = data.iloc[:, :-1].values\n",
        "y = data.iloc[:, -1].values\n",
        "\n",
        "# Define the logistic regression model\n",
        "model = LogisticRegression()\n",
        "\n",
        "# Define the forward selection object\n",
        "sfs = SFS(model, k_features=8, forward=True, floating=False, scoring=\"accuracy\", cv=5)\n",
        "\n",
        "# Perform forward selection on the training set\n",
        "sfs.fit(X, y)\n",
        "\n",
        "# Print the selected features\n",
        "print(\"Selected Features:\", sfs.k_feature_names_)\n",
        "\n",
        "# Evaluate the performance of the selected features on the testing set\n",
        "accuracy = sfs.k_score_\n",
        "print(\"Accuracy:\", accuracy)"
      ]
    },
    {
      "cell_type": "code",
      "execution_count": null,
      "metadata": {
        "colab": {
          "base_uri": "https://localhost:8080/",
          "height": 472
        },
        "id": "mAaTBGwzbwEU",
        "outputId": "3fb80b63-c42e-4f45-c533-587550fbd507"
      },
      "outputs": [
        {
          "data": {
            "image/png": "[encoded data removed]",
            "text/plain": [
              "<Figure size 640x480 with 1 Axes>"
            ]
          },
          "metadata": {},
          "output_type": "display_data"
        }
      ],
      "source": [
        "# Plot the performance of the model with different feature subsets\n",
        "sfs_df = pd.DataFrame.from_dict(sfs.get_metric_dict()).T\n",
        "sfs_df[\"avg_score\"] = sfs_df[\"avg_score\"].astype(float)\n",
        "fig, ax = plt.subplots()\n",
        "sfs_df.plot(kind=\"line\", y=\"avg_score\", ax=ax)\n",
        "ax.set_xlabel(\"Number of Features\")\n",
        "ax.set_ylabel(\"Accuracy\")\n",
        "ax.set_title(\"Forward Selection Performance\")\n",
        "plt.show()"
      ]
    },
    {
      "cell_type": "code",
      "execution_count": null,
      "metadata": {
        "id": "lZFJ4QWjB_fK"
      },
      "outputs": [],
      "source": [
        "features = data.columns.values\n",
        "forward_selection_features = []\n",
        "\n",
        "for index in sfs.k_feature_names_:\n",
        "  forward_selection_features.append(features[int(index)])"
      ]
    },
    {
      "cell_type": "code",
      "execution_count": null,
      "metadata": {
        "colab": {
          "base_uri": "https://localhost:8080/"
        },
        "id": "iL2eI-2AFyx0",
        "outputId": "9fb30bdf-3b7c-4268-9be0-c43c94259fde"
      },
      "outputs": [
        {
          "name": "stdout",
          "output_type": "stream",
          "text": [
            "['height(cm)', 'Cholesterol', 'Gtp', 'Urine protein', 'AST', 'dental caries', 'systolic', 'eyesight(left)']\n"
          ]
        }
      ],
      "source": [
        "print(forward_selection_features)"
      ]
    },
    {
      "cell_type": "markdown",
      "metadata": {
        "id": "lil-TQE7Gtds"
      },
      "source": [
        "### Selecting common features from all four feature selection approaches"
      ]
    },
    {
      "cell_type": "code",
      "execution_count": null,
      "metadata": {
        "id": "NPWQu3i-GrBC"
      },
      "outputs": [],
      "source": [
        "features = data.columns.values\n",
        "selected_features = []\n",
        "\n",
        "for feature in features:\n",
        "  counter = 0\n",
        "  if feature in information_gain_selected_features:\n",
        "    counter += 1\n",
        "  if feature in correlation_coefficient_selected_features:\n",
        "    counter += 1\n",
        "  if feature in random_forest_importance_selected_features:\n",
        "    counter += 1\n",
        "  if feature in forward_selection_features:\n",
        "    counter += 1\n",
        "\n",
        "  if counter >= 3:\n",
        "    selected_features.append(feature)"
      ]
    },
    {
      "cell_type": "code",
      "execution_count": null,
      "metadata": {
        "colab": {
          "base_uri": "https://localhost:8080/"
        },
        "id": "eOA17TECXBdk",
        "outputId": "bc83eb34-471e-45ba-b47d-69518199c514"
      },
      "outputs": [
        {
          "name": "stdout",
          "output_type": "stream",
          "text": [
            "['Liverfunction', 'age', 'height(cm)', 'Cholesterol', 'Gtp', 'AST', 'dental caries', 'systolic', 'eyesight(left)']\n"
          ]
        }
      ],
      "source": [
        "print(selected_features)"
      ]
    },
    {
      "cell_type": "code",
      "execution_count": null,
      "metadata": {
        "colab": {
          "base_uri": "https://localhost:8080/",
          "height": 206
        },
        "id": "OeVWe5kkXJ4i",
        "outputId": "b128c095-aada-4903-86a4-6b74b083c682"
      },
      "outputs": [
        {
          "data": {
            "text/html": [
              "\n",
              "  <div id=\"df-186af374-2fe6-4506-bf3d-e3f7388f7707\" class=\"colab-df-container\">\n",
              "    <div>\n",
              "<style scoped>\n",
              "    .dataframe tbody tr th:only-of-type {\n",
              "        vertical-align: middle;\n",
              "    }\n",
              "\n",
              "    .dataframe tbody tr th {\n",
              "        vertical-align: top;\n",
              "    }\n",
              "\n",
              "    .dataframe thead th {\n",
              "        text-align: right;\n",
              "    }\n",
              "</style>\n",
              "<table border=\"1\" class=\"dataframe\">\n",
              "  <thead>\n",
              "    <tr style=\"text-align: right;\">\n",
              "      <th></th>\n",
              "      <th>Liverfunction</th>\n",
              "      <th>age</th>\n",
              "      <th>height(cm)</th>\n",
              "      <th>Cholesterol</th>\n",
              "      <th>Gtp</th>\n",
              "      <th>AST</th>\n",
              "      <th>dental caries</th>\n",
              "      <th>systolic</th>\n",
              "      <th>eyesight(left)</th>\n",
              "      <th>smoking</th>\n",
              "    </tr>\n",
              "  </thead>\n",
              "  <tbody>\n",
              "    <tr>\n",
              "      <th>0</th>\n",
              "      <td>0.104737</td>\n",
              "      <td>0.538462</td>\n",
              "      <td>-0.036550</td>\n",
              "      <td>-0.850927</td>\n",
              "      <td>0.062914</td>\n",
              "      <td>0.140845</td>\n",
              "      <td>0</td>\n",
              "      <td>0.999098</td>\n",
              "      <td>0.176471</td>\n",
              "      <td>1</td>\n",
              "    </tr>\n",
              "    <tr>\n",
              "      <th>1</th>\n",
              "      <td>0.074583</td>\n",
              "      <td>0.769231</td>\n",
              "      <td>-0.036550</td>\n",
              "      <td>-0.065644</td>\n",
              "      <td>0.096026</td>\n",
              "      <td>0.211268</td>\n",
              "      <td>1</td>\n",
              "      <td>1.885635</td>\n",
              "      <td>0.235294</td>\n",
              "      <td>0</td>\n",
              "    </tr>\n",
              "    <tr>\n",
              "      <th>2</th>\n",
              "      <td>0.105986</td>\n",
              "      <td>0.000000</td>\n",
              "      <td>0.531029</td>\n",
              "      <td>-0.636759</td>\n",
              "      <td>0.149007</td>\n",
              "      <td>0.211268</td>\n",
              "      <td>0</td>\n",
              "      <td>-0.371004</td>\n",
              "      <td>0.117647</td>\n",
              "      <td>1</td>\n",
              "    </tr>\n",
              "    <tr>\n",
              "      <th>3</th>\n",
              "      <td>0.127380</td>\n",
              "      <td>0.230769</td>\n",
              "      <td>1.666186</td>\n",
              "      <td>-0.565370</td>\n",
              "      <td>0.072848</td>\n",
              "      <td>0.112676</td>\n",
              "      <td>1</td>\n",
              "      <td>0.676721</td>\n",
              "      <td>0.764706</td>\n",
              "      <td>0</td>\n",
              "    </tr>\n",
              "    <tr>\n",
              "      <th>4</th>\n",
              "      <td>0.056815</td>\n",
              "      <td>0.153846</td>\n",
              "      <td>-0.036550</td>\n",
              "      <td>-1.457737</td>\n",
              "      <td>0.029801</td>\n",
              "      <td>0.098592</td>\n",
              "      <td>0</td>\n",
              "      <td>-0.129221</td>\n",
              "      <td>0.764706</td>\n",
              "      <td>1</td>\n",
              "    </tr>\n",
              "  </tbody>\n",
              "</table>\n",
              "</div>\n",
              "    <div class=\"colab-df-buttons\">\n",
              "\n",
              "  <div class=\"colab-df-container\">\n",
              "    <button class=\"colab-df-convert\" onclick=\"convertToInteractive('df-186af374-2fe6-4506-bf3d-e3f7388f7707')\"\n",
              "            title=\"Convert this dataframe to an interactive table.\"\n",
              "            style=\"display:none;\">\n",
              "\n",
              "  <svg xmlns=\"http://www.w3.org/2000/svg\" height=\"24px\" viewBox=\"0 -960 960 960\">\n",
              "    <path d=\"M120-120v-720h720v720H120Zm60-500h600v-160H180v160Zm220 220h160v-160H400v160Zm0 220h160v-160H400v160ZM180-400h160v-160H180v160Zm440 0h160v-160H620v160ZM180-180h160v-160H180v160Zm440 0h160v-160H620v160Z\"/>\n",
              "  </svg>\n",
              "    </button>\n",
              "\n",
              "  <style>\n",
              "    .colab-df-container {\n",
              "      display:flex;\n",
              "      gap: 12px;\n",
              "    }\n",
              "\n",
              "    .colab-df-convert {\n",
              "      background-color: #E8F0FE;\n",
              "      border: none;\n",
              "      border-radius: 50%;\n",
              "      cursor: pointer;\n",
              "      display: none;\n",
              "      fill: #1967D2;\n",
              "      height: 32px;\n",
              "      padding: 0 0 0 0;\n",
              "      width: 32px;\n",
              "    }\n",
              "\n",
              "    .colab-df-convert:hover {\n",
              "      background-color: #E2EBFA;\n",
              "      box-shadow: 0px 1px 2px rgba(60, 64, 67, 0.3), 0px 1px 3px 1px rgba(60, 64, 67, 0.15);\n",
              "      fill: #174EA6;\n",
              "    }\n",
              "\n",
              "    .colab-df-buttons div {\n",
              "      margin-bottom: 4px;\n",
              "    }\n",
              "\n",
              "    [theme=dark] .colab-df-convert {\n",
              "      background-color: #3B4455;\n",
              "      fill: #D2E3FC;\n",
              "    }\n",
              "\n",
              "    [theme=dark] .colab-df-convert:hover {\n",
              "      background-color: #434B5C;\n",
              "      box-shadow: 0px 1px 3px 1px rgba(0, 0, 0, 0.15);\n",
              "      filter: drop-shadow(0px 1px 2px rgba(0, 0, 0, 0.3));\n",
              "      fill: #FFFFFF;\n",
              "    }\n",
              "  </style>\n",
              "\n",
              "    <script>\n",
              "      const buttonEl =\n",
              "        document.querySelector('#df-186af374-2fe6-4506-bf3d-e3f7388f7707 button.colab-df-convert');\n",
              "      buttonEl.style.display =\n",
              "        google.colab.kernel.accessAllowed ? 'block' : 'none';\n",
              "\n",
              "      async function convertToInteractive(key) {\n",
              "        const element = document.querySelector('#df-186af374-2fe6-4506-bf3d-e3f7388f7707');\n",
              "        const dataTable =\n",
              "          await google.colab.kernel.invokeFunction('convertToInteractive',\n",
              "                                                    [key], {});\n",
              "        if (!dataTable) return;\n",
              "\n",
              "        const docLinkHtml = 'Like what you see? Visit the ' +\n",
              "          '<a target=\"_blank\" href=https://colab.research.google.com/notebooks/data_table.ipynb>data table notebook</a>'\n",
              "          + ' to learn more about interactive tables.';\n",
              "        element.innerHTML = '';\n",
              "        dataTable['output_type'] = 'display_data';\n",
              "        await google.colab.output.renderOutput(dataTable, element);\n",
              "        const docLink = document.createElement('div');\n",
              "        docLink.innerHTML = docLinkHtml;\n",
              "        element.appendChild(docLink);\n",
              "      }\n",
              "    </script>\n",
              "  </div>\n",
              "\n",
              "\n",
              "<div id=\"df-58c0aba0-aa8a-4061-8870-3bd146592474\">\n",
              "  <button class=\"colab-df-quickchart\" onclick=\"quickchart('df-58c0aba0-aa8a-4061-8870-3bd146592474')\"\n",
              "            title=\"Suggest charts\"\n",
              "            style=\"display:none;\">\n",
              "\n",
              "<svg xmlns=\"http://www.w3.org/2000/svg\" height=\"24px\"viewBox=\"0 0 24 24\"\n",
              "     width=\"24px\">\n",
              "    <g>\n",
              "        <path d=\"M19 3H5c-1.1 0-2 .9-2 2v14c0 1.1.9 2 2 2h14c1.1 0 2-.9 2-2V5c0-1.1-.9-2-2-2zM9 17H7v-7h2v7zm4 0h-2V7h2v10zm4 0h-2v-4h2v4z\"/>\n",
              "    </g>\n",
              "</svg>\n",
              "  </button>\n",
              "\n",
              "<style>\n",
              "  .colab-df-quickchart {\n",
              "      --bg-color: #E8F0FE;\n",
              "      --fill-color: #1967D2;\n",
              "      --hover-bg-color: #E2EBFA;\n",
              "      --hover-fill-color: #174EA6;\n",
              "      --disabled-fill-color: #AAA;\n",
              "      --disabled-bg-color: #DDD;\n",
              "  }\n",
              "\n",
              "  [theme=dark] .colab-df-quickchart {\n",
              "      --bg-color: #3B4455;\n",
              "      --fill-color: #D2E3FC;\n",
              "      --hover-bg-color: #434B5C;\n",
              "      --hover-fill-color: #FFFFFF;\n",
              "      --disabled-bg-color: #3B4455;\n",
              "      --disabled-fill-color: #666;\n",
              "  }\n",
              "\n",
              "  .colab-df-quickchart {\n",
              "    background-color: var(--bg-color);\n",
              "    border: none;\n",
              "    border-radius: 50%;\n",
              "    cursor: pointer;\n",
              "    display: none;\n",
              "    fill: var(--fill-color);\n",
              "    height: 32px;\n",
              "    padding: 0;\n",
              "    width: 32px;\n",
              "  }\n",
              "\n",
              "  .colab-df-quickchart:hover {\n",
              "    background-color: var(--hover-bg-color);\n",
              "    box-shadow: 0 1px 2px rgba(60, 64, 67, 0.3), 0 1px 3px 1px rgba(60, 64, 67, 0.15);\n",
              "    fill: var(--button-hover-fill-color);\n",
              "  }\n",
              "\n",
              "  .colab-df-quickchart-complete:disabled,\n",
              "  .colab-df-quickchart-complete:disabled:hover {\n",
              "    background-color: var(--disabled-bg-color);\n",
              "    fill: var(--disabled-fill-color);\n",
              "    box-shadow: none;\n",
              "  }\n",
              "\n",
              "  .colab-df-spinner {\n",
              "    border: 2px solid var(--fill-color);\n",
              "    border-color: transparent;\n",
              "    border-bottom-color: var(--fill-color);\n",
              "    animation:\n",
              "      spin 1s steps(1) infinite;\n",
              "  }\n",
              "\n",
              "  @keyframes spin {\n",
              "    0% {\n",
              "      border-color: transparent;\n",
              "      border-bottom-color: var(--fill-color);\n",
              "      border-left-color: var(--fill-color);\n",
              "    }\n",
              "    20% {\n",
              "      border-color: transparent;\n",
              "      border-left-color: var(--fill-color);\n",
              "      border-top-color: var(--fill-color);\n",
              "    }\n",
              "    30% {\n",
              "      border-color: transparent;\n",
              "      border-left-color: var(--fill-color);\n",
              "      border-top-color: var(--fill-color);\n",
              "      border-right-color: var(--fill-color);\n",
              "    }\n",
              "    40% {\n",
              "      border-color: transparent;\n",
              "      border-right-color: var(--fill-color);\n",
              "      border-top-color: var(--fill-color);\n",
              "    }\n",
              "    60% {\n",
              "      border-color: transparent;\n",
              "      border-right-color: var(--fill-color);\n",
              "    }\n",
              "    80% {\n",
              "      border-color: transparent;\n",
              "      border-right-color: var(--fill-color);\n",
              "      border-bottom-color: var(--fill-color);\n",
              "    }\n",
              "    90% {\n",
              "      border-color: transparent;\n",
              "      border-bottom-color: var(--fill-color);\n",
              "    }\n",
              "  }\n",
              "</style>\n",
              "\n",
              "  <script>\n",
              "    async function quickchart(key) {\n",
              "      const quickchartButtonEl =\n",
              "        document.querySelector('#' + key + ' button');\n",
              "      quickchartButtonEl.disabled = true;  // To prevent multiple clicks.\n",
              "      quickchartButtonEl.classList.add('colab-df-spinner');\n",
              "      try {\n",
              "        const charts = await google.colab.kernel.invokeFunction(\n",
              "            'suggestCharts', [key], {});\n",
              "      } catch (error) {\n",
              "        console.error('Error during call to suggestCharts:', error);\n",
              "      }\n",
              "      quickchartButtonEl.classList.remove('colab-df-spinner');\n",
              "      quickchartButtonEl.classList.add('colab-df-quickchart-complete');\n",
              "    }\n",
              "    (() => {\n",
              "      let quickchartButtonEl =\n",
              "        document.querySelector('#df-58c0aba0-aa8a-4061-8870-3bd146592474 button');\n",
              "      quickchartButtonEl.style.display =\n",
              "        google.colab.kernel.accessAllowed ? 'block' : 'none';\n",
              "    })();\n",
              "  </script>\n",
              "</div>\n",
              "\n",
              "    </div>\n",
              "  </div>\n"
            ],
            "text/plain": [
              "   Liverfunction       age  height(cm)  Cholesterol       Gtp       AST  \\\n",
              "0       0.104737  0.538462   -0.036550    -0.850927  0.062914  0.140845   \n",
              "1       0.074583  0.769231   -0.036550    -0.065644  0.096026  0.211268   \n",
              "2       0.105986  0.000000    0.531029    -0.636759  0.149007  0.211268   \n",
              "3       0.127380  0.230769    1.666186    -0.565370  0.072848  0.112676   \n",
              "4       0.056815  0.153846   -0.036550    -1.457737  0.029801  0.098592   \n",
              "\n",
              "   dental caries  systolic  eyesight(left)  smoking  \n",
              "0              0  0.999098        0.176471        1  \n",
              "1              1  1.885635        0.235294        0  \n",
              "2              0 -0.371004        0.117647        1  \n",
              "3              1  0.676721        0.764706        0  \n",
              "4              0 -0.129221        0.764706        1  "
            ]
          },
          "execution_count": 286,
          "metadata": {},
          "output_type": "execute_result"
        }
      ],
      "source": [
        "selected_features.append('smoking')\n",
        "data = data[selected_features]\n",
        "data.head()"
      ]
    },
    {
      "cell_type": "code",
      "execution_count": null,
      "metadata": {
        "id": "TMCUTaL6WFPV"
      },
      "outputs": [],
      "source": [
        "x = data.iloc[:, 0:8]\n",
        "y = data[\"smoking\"]\n",
        "\n",
        "from sklearn.model_selection import train_test_split\n",
        "\n",
        "x_train,x_test,y_train,y_test=train_test_split(x,y,stratify=y,test_size=0.3,random_state=10)\n",
        "x_test,x_valid,y_test,y_valid=train_test_split(x_test,y_test,stratify=y_test,test_size=0.5,random_state=10)\n",
        "\n",
        "train_data=pd.concat([x_train ,y_train],axis=1)\n",
        "train_data.head\n",
        "train_data.to_csv(\"training_data.csv\")\n",
        "Validation_data=pd.concat([x_valid ,y_valid],axis=1)\n",
        "Validation_data.head\n",
        "Validation_data.to_csv(\"validation_data.csv\")\n",
        "Testing_data=pd.concat([x_test ,y_test],axis=1)\n",
        "Testing_data.head\n",
        "Testing_data.to_csv(\"testing_data.csv\")"
      ]
    }
  ],
  "metadata": {
    "colab": {
      "provenance": []
    },
    "kernelspec": {
      "display_name": "Python 3",
      "name": "python3"
    },
    "language_info": {
      "name": "python"
    }
  },
  "nbformat": 4,
  "nbformat_minor": 0
}
